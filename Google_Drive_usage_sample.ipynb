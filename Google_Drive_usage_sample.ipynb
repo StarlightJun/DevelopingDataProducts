{
  "nbformat": 4,
  "nbformat_minor": 0,
  "metadata": {
    "colab": {
      "name": "Google_Drive_usage_sample.ipynb",
      "provenance": [],
      "collapsed_sections": [],
      "include_colab_link": true
    },
    "kernelspec": {
      "display_name": "Python 3",
      "language": "python",
      "name": "python3"
    },
    "language_info": {
      "codemirror_mode": {
        "name": "ipython",
        "version": 3
      },
      "file_extension": ".py",
      "mimetype": "text/x-python",
      "name": "python",
      "nbconvert_exporter": "python",
      "pygments_lexer": "ipython3",
      "version": "3.7.4"
    }
  },
  "cells": [
    {
      "cell_type": "markdown",
      "metadata": {
        "id": "view-in-github",
        "colab_type": "text"
      },
      "source": [
        "<a href=\"https://colab.research.google.com/github/StarlightJun/DevelopingDataProducts/blob/master/Google_Drive_usage_sample.ipynb\" target=\"_parent\"><img src=\"https://colab.research.google.com/assets/colab-badge.svg\" alt=\"Open In Colab\"/></a>"
      ]
    },
    {
      "cell_type": "markdown",
      "metadata": {
        "colab_type": "text",
        "id": "YhJDPiSWEa-N"
      },
      "source": [
        "# 나의 Google Drive에 있는 File 을 Colab 에서 사용하는 방법\n",
        "1. Colab 에서 Google Drive 를 Gdrive 로 Mount 한다. ( 여기서 \"Gdrive\" 은 원하는 어떤 이름도 가능함)"
      ]
    },
    {
      "cell_type": "code",
      "metadata": {
        "colab_type": "code",
        "id": "G1dcJBwpP7zP",
        "colab": {}
      },
      "source": [
        "from google.colab import drive\n",
        "drive.mount('Gdrive')"
      ],
      "execution_count": 0,
      "outputs": []
    },
    {
      "cell_type": "markdown",
      "metadata": {
        "colab_type": "text",
        "id": "fe1k9iArFx_1"
      },
      "source": [
        "2. File 을 읽어본다 ( 읽기전 나의 Google Drive 해당 Folder 에 해당  File 이 있는지  Google Drive 에서 확인한다.)"
      ]
    },
    {
      "cell_type": "code",
      "metadata": {
        "colab_type": "code",
        "id": "9RtlMLJhE5LN",
        "colab": {}
      },
      "source": [
        "import pandas as pd\n",
        "df = pd.read_csv('Gdrive/My Drive/eda-datavis/w2/housepricedata.csv')"
      ],
      "execution_count": 0,
      "outputs": []
    },
    {
      "cell_type": "markdown",
      "metadata": {
        "colab_type": "text",
        "id": "z72iuBRYHTct"
      },
      "source": [
        "3. 읽은 File 내용을 출력한다."
      ]
    },
    {
      "cell_type": "code",
      "metadata": {
        "colab_type": "code",
        "id": "ygGJvTrbHLtS",
        "colab": {}
      },
      "source": [
        "df"
      ],
      "execution_count": 0,
      "outputs": []
    }
  ]
}